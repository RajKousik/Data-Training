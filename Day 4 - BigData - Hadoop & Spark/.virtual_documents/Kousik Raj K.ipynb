pip install pyspark


from pyspark.sql import SparkSession
import pyspark.sql.functions as F
from pyspark.sql import types 
from pyspark.sql.window import Window


spark = SparkSession.builder.appName("PySparkCovidTask").getOrCreate()
# filepath = "/complete.csv"


df_csv = spark.read.format("csv") \
            .option("header", True) \
            .option("multiLine", True) \
            .option("ignoreLeadingWhiteSpace",True) \
            .option("ignoreTrailingWhiteSpace",True) \
            .option("escape", "\\") \
            .option("quote", "\"") \
            .load(filepath)


df_csv.printSchema()



