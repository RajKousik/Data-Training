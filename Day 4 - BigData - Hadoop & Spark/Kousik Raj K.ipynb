{
 "cells": [
  {
   "cell_type": "code",
   "execution_count": null,
   "id": "cdaa0aa1-08c9-4442-b53f-877fb86fd927",
   "metadata": {},
   "outputs": [],
   "source": [
    "pip install pyspark"
   ]
  },
  {
   "cell_type": "markdown",
   "id": "2ea09ae6-70be-40e7-9a00-080e022c541d",
   "metadata": {},
   "source": [
    "from pyspark.sql import SparkSession\n",
    "import pyspark.sql.functions as F\n",
    "from pyspark.sql import types \n",
    "from pyspark.sql.window import Window"
   ]
  },
  {
   "cell_type": "code",
   "execution_count": 15,
   "id": "98e9992b-5e09-4d03-93e9-cbf8208fefc6",
   "metadata": {},
   "outputs": [],
   "source": [
    "spark = SparkSession.builder.appName(\"PySparkCovidAnalysisTask\").getOrCreate()\n",
    "filepath = \"complete.csv\""
   ]
  },
  {
   "cell_type": "code",
   "execution_count": 16,
   "id": "fae21ba3-586e-4e39-bc02-9a3498aeadc9",
   "metadata": {},
   "outputs": [],
   "source": [
    "df = spark.read.format(\"csv\") \\\n",
    "            .option(\"header\", True) \\\n",
    "            .option(\"multiLine\", True) \\\n",
    "            .option(\"ignoreLeadingWhiteSpace\",True) \\\n",
    "            .option(\"ignoreTrailingWhiteSpace\",True) \\\n",
    "            .option(\"escape\", \"\\\\\") \\\n",
    "            .option(\"quote\", \"\\\"\") \\\n",
    "            .load(filepath)"
   ]
  },
  {
   "cell_type": "code",
   "execution_count": 17,
   "id": "9cc31395-361d-4e11-b435-57f5b15348ee",
   "metadata": {},
   "outputs": [
    {
     "name": "stdout",
     "output_type": "stream",
     "text": [
      "root\n",
      " |-- Date: string (nullable = true)\n",
      " |-- Name of State / UT: string (nullable = true)\n",
      " |-- Latitude: string (nullable = true)\n",
      " |-- Longitude: string (nullable = true)\n",
      " |-- Total Confirmed cases: string (nullable = true)\n",
      " |-- Death: string (nullable = true)\n",
      " |-- Cured/Discharged/Migrated: string (nullable = true)\n",
      " |-- New cases: string (nullable = true)\n",
      " |-- New deaths: string (nullable = true)\n",
      " |-- New recovered: string (nullable = true)\n",
      "\n"
     ]
    }
   ],
   "source": [
    "df.printSchema()"
   ]
  },
  {
   "cell_type": "code",
   "execution_count": 18,
   "id": "e354d7ad-9bff-47bf-9973-16cb5a0afd4b",
   "metadata": {},
   "outputs": [
    {
     "name": "stdout",
     "output_type": "stream",
     "text": [
      "root\n",
      " |-- Date: string (nullable = true)\n",
      " |-- Name of State / UT: string (nullable = true)\n",
      " |-- Latitude: string (nullable = true)\n",
      " |-- Longitude: string (nullable = true)\n",
      " |-- Total Confirmed cases: string (nullable = true)\n",
      " |-- Death: string (nullable = true)\n",
      " |-- Cured/Discharged/Migrated: string (nullable = true)\n",
      " |-- New cases: string (nullable = true)\n",
      " |-- New deaths: string (nullable = true)\n",
      " |-- New recovered: string (nullable = true)\n",
      " |-- total_case: long (nullable = true)\n",
      " |-- total_newly_recovered: long (nullable = true)\n",
      " |-- state: string (nullable = true)\n",
      " |-- death_Case: long (nullable = true)\n",
      "\n"
     ]
    }
   ],
   "source": [
    "df = df.withColumn(\"total_case\", df[\"Total Confirmed cases\"].cast(types.LongType()))\n",
    "df = df.withColumn(\"total_newly_recovered\", df[\"New recovered\"].cast(types.LongType()))\n",
    "df = df.withColumn(\"state\", df[\"Name of State / UT\"].cast(types.StringType()))\n",
    "df = df.withColumn(\"death_Case\", df[\"Death\"].cast(types.LongType()))\n",
    "df.printSchema()"
   ]
  },
  {
   "cell_type": "code",
   "execution_count": 19,
   "id": "385af9ee-b681-4e74-a90e-81fb550a5708",
   "metadata": {},
   "outputs": [
    {
     "name": "stdout",
     "output_type": "stream",
     "text": [
      "root\n",
      " |-- Date: string (nullable = true)\n",
      " |-- Name of State / UT: string (nullable = true)\n",
      " |-- Latitude: string (nullable = true)\n",
      " |-- Longitude: string (nullable = true)\n",
      " |-- Total Confirmed cases: string (nullable = true)\n",
      " |-- Death: string (nullable = true)\n",
      " |-- Cured/Discharged/Migrated: string (nullable = true)\n",
      " |-- New cases: string (nullable = true)\n",
      " |-- New deaths: string (nullable = true)\n",
      " |-- New recovered: string (nullable = true)\n",
      " |-- total_case: long (nullable = true)\n",
      " |-- total_newly_recovered: long (nullable = true)\n",
      " |-- state: string (nullable = true)\n",
      " |-- death_Case: long (nullable = true)\n",
      "\n"
     ]
    }
   ],
   "source": [
    "df.printSchema()"
   ]
  },
  {
   "cell_type": "code",
   "execution_count": 20,
   "id": "c0a1ccdc-7e9a-4e36-8a01-3bc44eccea59",
   "metadata": {},
   "outputs": [
    {
     "name": "stdout",
     "output_type": "stream",
     "text": [
      "+----------------------+\n",
      "|state_names_lower_case|\n",
      "+----------------------+\n",
      "|                 delhi|\n",
      "|           maharashtra|\n",
      "|             meghalaya|\n",
      "|                odisha|\n",
      "|               haryana|\n",
      "|           west bengal|\n",
      "|                   goa|\n",
      "|                punjab|\n",
      "|     jammu and kashmir|\n",
      "|  dadra and nagar h...|\n",
      "|             karnataka|\n",
      "|        andhra pradesh|\n",
      "|             telangana|\n",
      "|              nagaland|\n",
      "|                 bihar|\n",
      "|        madhya pradesh|\n",
      "|             jharkhand|\n",
      "|                 assam|\n",
      "|                kerala|\n",
      "|            tamil nadu|\n",
      "+----------------------+\n",
      "only showing top 20 rows\n",
      "\n"
     ]
    }
   ],
   "source": [
    "# 1. Convert all state names to lower\n",
    "output_df_state_names = df.withColumn('state_names_lower_case', F.lower(F.col(\"state\")))\n",
    "output_df_state_names.select(\"state_names_lower_case\").distinct().show()"
   ]
  },
  {
   "cell_type": "code",
   "execution_count": 22,
   "id": "19320de8-6cfd-435e-a5d4-524ca5f8196b",
   "metadata": {},
   "outputs": [
    {
     "name": "stdout",
     "output_type": "stream",
     "text": [
      "+----------+--------------+\n",
      "|      Date|sum_total_case|\n",
      "+----------+--------------+\n",
      "|2020-08-06|       1964536|\n",
      "+----------+--------------+\n",
      "\n"
     ]
    }
   ],
   "source": [
    "# 2. The day with the highest number of COVID cases\n",
    "\n",
    "# Group by date and sum the total cases, then find the day with the maximum cases in one step\n",
    "df_max_covid_cases_day = df.groupBy(\"Date\") \\\n",
    "    .agg(F.sum(\"total_case\").alias(\"sum_total_case\")) \\\n",
    "    .orderBy(F.col(\"sum_total_case\").desc()) \\\n",
    "    .limit(1)\n",
    "\n",
    "df_max_covid_cases_day.show()"
   ]
  },
  {
   "cell_type": "code",
   "execution_count": 24,
   "id": "70cca7fa-5b19-40df-8440-3d5373323c9f",
   "metadata": {},
   "outputs": [
    {
     "name": "stdout",
     "output_type": "stream",
     "text": [
      "+----------+--------------+\n",
      "|     state|sum_total_case|\n",
      "+----------+--------------+\n",
      "|Tamil Nadu|       7847083|\n",
      "+----------+--------------+\n",
      "\n"
     ]
    }
   ],
   "source": [
    "# 3. The state with the second-largest number of COVID cases\n",
    "df_second_largest_state_cases = df.groupBy(\"state\") \\\n",
    "    .agg(F.sum(\"total_case\").alias(\"sum_total_case\")) \\\n",
    "    .orderBy(F.col(\"sum_total_case\").desc()) \\\n",
    "    .limit(2) \\\n",
    "    .orderBy(F.col(\"sum_total_case\").asc()) \\\n",
    "    .limit(1)\n",
    "\n",
    "df_second_largest_state_cases.show()"
   ]
  },
  {
   "cell_type": "code",
   "execution_count": 25,
   "id": "3f85ffc6-97d4-4df1-b50a-8acbff230512",
   "metadata": {},
   "outputs": [
    {
     "name": "stdout",
     "output_type": "stream",
     "text": [
      "+------------------------------------+------------+\n",
      "|state                               |total_deaths|\n",
      "+------------------------------------+------------+\n",
      "|Union Territory of Jammu and Kashmir|0           |\n",
      "+------------------------------------+------------+\n",
      "\n"
     ]
    }
   ],
   "source": [
    "# 4. Union Territory with the least number of deaths\n",
    "df_least_deaths_union_territory = df.filter(F.col(\"state\").contains(\"Union Territory\")) \\\n",
    "    .groupBy(\"state\") \\\n",
    "    .agg(F.sum(\"death_Case\").alias(\"total_deaths\")) \\\n",
    "    .orderBy(F.col(\"total_deaths\").asc()) \\\n",
    "    .limit(1)\n",
    "\n",
    "df_least_deaths_union_territory.show(truncate=False)\n"
   ]
  },
  {
   "cell_type": "code",
   "execution_count": 26,
   "id": "2f0b0056-0d09-4a57-8476-d6b907e0d53c",
   "metadata": {},
   "outputs": [
    {
     "name": "stdout",
     "output_type": "stream",
     "text": [
      "+-------+-----------------------+\n",
      "|state  |avg_death_to_case_ratio|\n",
      "+-------+-----------------------+\n",
      "|Mizoram|0.0                    |\n",
      "+-------+-----------------------+\n",
      "\n"
     ]
    }
   ],
   "source": [
    "# 5. State with the Lowest Death to Total Confirmed Cases Ratio\n",
    "df_lowest_death_to_case_ratio = df.withColumn(\"death_to_case_ratio\", F.col(\"death_Case\") / F.col(\"total_case\")) \\\n",
    "    .groupBy(\"state\") \\\n",
    "    .agg(F.avg(\"death_to_case_ratio\").alias(\"avg_death_to_case_ratio\")) \\\n",
    "    .orderBy(F.col(\"avg_death_to_case_ratio\").asc()) \\\n",
    "    .limit(1)\n",
    "\n",
    "df_lowest_death_to_case_ratio.show(truncate=False)\n"
   ]
  },
  {
   "cell_type": "code",
   "execution_count": 52,
   "id": "5cc2f418-2633-4d99-919c-10e14e61899c",
   "metadata": {},
   "outputs": [
    {
     "name": "stdout",
     "output_type": "stream",
     "text": [
      "The month with the most new recovered cases: July with 722983.0 cases\n"
     ]
    }
   ],
   "source": [
    "# # 6. The month that has more newer recovered cases\n",
    "# # If the month is 02, it should display as February\n",
    "\n",
    "# Define month mapping\n",
    "month_mapping = {\n",
    "    1: \"January\", 2: \"February\", 3: \"March\", 4: \"April\", 5: \"May\",\n",
    "    6: \"June\", 7: \"July\", 8: \"August\", 9: \"September\", 10: \"October\",\n",
    "    11: \"November\", 12: \"December\"\n",
    "}\n",
    "\n",
    "# Extract month from the Date column\n",
    "df_with_month = df.withColumn(\"Month\", F.month(F.col(\"Date\")))\n",
    "\n",
    "# Calculate total recovered cases per month and get the month with the highest total\n",
    "max_recovered_month = (\n",
    "    df_with_month\n",
    "    .groupBy(\"Month\")\n",
    "    .agg(F.sum(\"New recovered\").alias(\"Total Recovered\"))\n",
    "    .orderBy(F.col(\"Total Recovered\").desc())\n",
    "    .first()\n",
    ")\n",
    "\n",
    "# Get the month name from the mapping\n",
    "max_month_name = month_mapping.get(max_recovered_month[\"Month\"], \"Unknown Month\")\n",
    "total_recovered = max_recovered_month[\"Total Recovered\"]\n",
    "\n",
    "# Print the result\n",
    "print(f\"The month with the most new recovered cases: {max_month_name} with {total_recovered} cases\")\n"
   ]
  },
  {
   "cell_type": "code",
   "execution_count": null,
   "id": "be4e06ea-bbe3-43f3-aecc-227f9d715ed1",
   "metadata": {},
   "outputs": [],
   "source": []
  }
 ],
 "metadata": {
  "kernelspec": {
   "display_name": "Python 3 (ipykernel)",
   "language": "python",
   "name": "python3"
  },
  "language_info": {
   "codemirror_mode": {
    "name": "ipython",
    "version": 3
   },
   "file_extension": ".py",
   "mimetype": "text/x-python",
   "name": "python",
   "nbconvert_exporter": "python",
   "pygments_lexer": "ipython3",
   "version": "3.11.7"
  }
 },
 "nbformat": 4,
 "nbformat_minor": 5
}
